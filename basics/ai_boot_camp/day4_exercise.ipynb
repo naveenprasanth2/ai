{
 "cells": [
  {
   "cell_type": "code",
   "execution_count": 2,
   "id": "c77be799",
   "metadata": {},
   "outputs": [
    {
     "name": "stdout",
     "output_type": "stream",
     "text": [
      "{1, 2, 3, 5, 6, 7, 8, 9, 10}\n"
     ]
    }
   ],
   "source": [
    "list1 = [1, 2, 3, 3, 5, 6, 7, 8, 9, 10]\n",
    "set1 = set(list1[::-1])  \n",
    "print(set1)  # Displaying the set created from the reversed list"
   ]
  },
  {
   "cell_type": "code",
   "execution_count": 11,
   "id": "d2a8f035",
   "metadata": {},
   "outputs": [
    {
     "name": "stdout",
     "output_type": "stream",
     "text": [
      "Average grade: 86.60\n"
     ]
    }
   ],
   "source": [
    "students_with_grades = {\n",
    "    \"Alice\": 85,\n",
    "    \"Bob\": 90,\n",
    "    \"Charlie\": 78,\n",
    "    \"David\": 92,\n",
    "    \"Eve\": 88\n",
    "}\n",
    "average = 0\n",
    "\n",
    "for value in students_with_grades.values():\n",
    "    average += value\n",
    "\n",
    "average /= len(students_with_grades)\n",
    "print(f\"Average grade: {average:.2f}\")  # Displaying the average grade formatted to two decimal places"
   ]
  }
 ],
 "metadata": {
  "kernelspec": {
   "display_name": "Python 3",
   "language": "python",
   "name": "python3"
  },
  "language_info": {
   "codemirror_mode": {
    "name": "ipython",
    "version": 3
   },
   "file_extension": ".py",
   "mimetype": "text/x-python",
   "name": "python",
   "nbconvert_exporter": "python",
   "pygments_lexer": "ipython3",
   "version": "3.12.0"
  }
 },
 "nbformat": 4,
 "nbformat_minor": 5
}
