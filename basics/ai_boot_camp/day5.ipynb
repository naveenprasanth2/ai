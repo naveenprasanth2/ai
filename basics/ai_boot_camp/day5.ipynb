{
 "cells": [
  {
   "cell_type": "code",
   "execution_count": null,
   "id": "9e91bdeb",
   "metadata": {},
   "outputs": [
    {
     "name": "stdout",
     "output_type": "stream",
     "text": [
      "['123', '456', '7890']\n"
     ]
    }
   ],
   "source": [
    "import re\n",
    "\n",
    "text = \"contact me at 123-456-7890 or 987-654-3210\"\n",
    "\n",
    "# Regular expression to match phone numbers in the format xxx-xxx-xxxx\n",
    "pattern = r\"\\d{3}-\\d{3}-\\d{4}\"\n",
    "\n",
    "digits = re.findall(pattern, text)\n",
    "# Extract the first phone number\n",
    "\n",
    "print(digits)"
   ]
  },
  {
   "cell_type": "code",
   "execution_count": null,
   "id": "ae466d48",
   "metadata": {},
   "outputs": [],
   "source": []
  }
 ],
 "metadata": {
  "kernelspec": {
   "display_name": "Python 3",
   "language": "python",
   "name": "python3"
  },
  "language_info": {
   "codemirror_mode": {
    "name": "ipython",
    "version": 3
   },
   "file_extension": ".py",
   "mimetype": "text/x-python",
   "name": "python",
   "nbconvert_exporter": "python",
   "pygments_lexer": "ipython3",
   "version": "3.12.0"
  }
 },
 "nbformat": 4,
 "nbformat_minor": 5
}
