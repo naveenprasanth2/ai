{
 "cells": [
  {
   "cell_type": "code",
   "execution_count": null,
   "id": "9e91bdeb",
   "metadata": {},
   "outputs": [
    {
     "name": "stdout",
     "output_type": "stream",
     "text": [
      "['123-456-7890', '987-654-3210']\n"
     ]
    }
   ],
   "source": [
    "import re\n",
    "\n",
    "text = \"contact me at 123-456-7890 or 987-654-3210\"\n",
    "\n",
    "# Regular expression to match phone numbers in the format xxx-xxx-xxxx\n",
    "pattern = r\"\\d{3}-\\d{3}-\\d{4}\"\n",
    "\n",
    "digits = re.findall(pattern, text)\n",
    "# Extract the first phone number\n",
    "\n",
    "print(digits)"
   ]
  },
  {
   "cell_type": "code",
   "execution_count": 10,
   "id": "ae466d48",
   "metadata": {},
   "outputs": [
    {
     "name": "stdout",
     "output_type": "stream",
     "text": [
      "contact me at 1234567890 or 9876543210\n"
     ]
    }
   ],
   "source": [
    "import re\n",
    "\n",
    "text = \"contact me at 123-456-7890 or 987-654-3210\"\n",
    "\n",
    "pattern = r\"[^a-zA-Z0-9 ]+\"\n",
    "\n",
    "print(re.sub(pattern, \"\", text))"
   ]
  },
  {
   "cell_type": "code",
   "execution_count": 12,
   "id": "5b3ceb1f",
   "metadata": {},
   "outputs": [
    {
     "name": "stdout",
     "output_type": "stream",
     "text": [
      "contact me at 1234567890 or 9876543210\n"
     ]
    }
   ],
   "source": [
    "import re\n",
    "\n",
    "text = \"contact me at 123-456-7890 or 987-654-3210\"\n",
    "\n",
    "pattern = r\"[^\\w\\s ]+\"\n",
    "\n",
    "print(re.sub(pattern, \"\", text))"
   ]
  },
  {
   "cell_type": "code",
   "execution_count": 18,
   "id": "24cec382",
   "metadata": {},
   "outputs": [
    {
     "name": "stdout",
     "output_type": "stream",
     "text": [
      "False\n"
     ]
    }
   ],
   "source": [
    "def is_palindrome(s):\n",
    "    left = 0; right = len(s) - 1\n",
    "    while left < right:\n",
    "        if(s[left] != s[right]):\n",
    "            return False\n",
    "        left += 1\n",
    "        right -= 1\n",
    "    return True\n",
    "\n",
    "print(is_palindrome(\"madamo\"))\n",
    "\n"
   ]
  },
  {
   "cell_type": "code",
   "execution_count": 21,
   "id": "fe8ebb2d",
   "metadata": {},
   "outputs": [
    {
     "name": "stdout",
     "output_type": "stream",
     "text": [
      "science. data for great is Python Python. in programming love I "
     ]
    }
   ],
   "source": [
    "text = \"I love programming in Python. Python is great for data science.\"\n",
    "\n",
    "for i in text.split()[::-1]:\n",
    "    print(i, end=\" \")"
   ]
  }
 ],
 "metadata": {
  "kernelspec": {
   "display_name": "Python 3",
   "language": "python",
   "name": "python3"
  },
  "language_info": {
   "codemirror_mode": {
    "name": "ipython",
    "version": 3
   },
   "file_extension": ".py",
   "mimetype": "text/x-python",
   "name": "python",
   "nbconvert_exporter": "python",
   "pygments_lexer": "ipython3",
   "version": "3.12.0"
  }
 },
 "nbformat": 4,
 "nbformat_minor": 5
}
