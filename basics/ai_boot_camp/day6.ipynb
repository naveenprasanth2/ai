{
 "cells": [
  {
   "cell_type": "code",
   "execution_count": 9,
   "id": "baf1515a",
   "metadata": {},
   "outputs": [
    {
     "name": "stdout",
     "output_type": "stream",
     "text": [
      "This is a new line added to the file.\n"
     ]
    }
   ],
   "source": [
    "with open(\"/Users/naveenprasanthramasamy/Desktop/ai/basics/ai_boot_camp/sample.text\", \"w\") as write_file:\n",
    "    write_file.write(\"This is a new line added to the file.\")\n",
    "\n",
    "with open(\"/Users/naveenprasanthramasamy/Desktop/ai/basics/ai_boot_camp/sample.text\", \"r\") as file:\n",
    "    print(file.read())"
   ]
  },
  {
   "cell_type": "code",
   "execution_count": 2,
   "id": "5f80992b",
   "metadata": {},
   "outputs": [
    {
     "name": "stdout",
     "output_type": "stream",
     "text": [
      "This is a new line added to the file.\n"
     ]
    }
   ],
   "source": [
    "try:\n",
    "    with open(\"/Users/naveenprasanthramasamy/Desktop/ai/basics/ai_boot_camp/sample.text\", \"r\") as file:\n",
    "        print(file.read())\n",
    "except FileNotFoundError as e:\n",
    "    print(f\"Error: {e}\")"
   ]
  },
  {
   "cell_type": "code",
   "execution_count": 4,
   "id": "7f40f720",
   "metadata": {},
   "outputs": [
    {
     "name": "stdout",
     "output_type": "stream",
     "text": [
      "The number of lines in the file is: 1\n",
      "The number of words in the file is: 9\n"
     ]
    }
   ],
   "source": [
    "try:\n",
    "    with open(\"/Users/naveenprasanthramasamy/Desktop/ai/basics/ai_boot_camp/sample.text\", \"r\") as file:\n",
    "        lines = file.readlines()\n",
    "        print(\"The number of lines in the file is:\", len(lines))\n",
    "        words_count = sum(len(line.split()) for line in lines)\n",
    "        print(\"The number of words in the file is:\", words_count)\n",
    "except FileNotFoundError as e:\n",
    "    print(f\"Error: {e}\")"
   ]
  },
  {
   "cell_type": "code",
   "execution_count": null,
   "id": "73d6d1eb",
   "metadata": {},
   "outputs": [
    {
     "name": "stdout",
     "output_type": "stream",
     "text": [
      "summathairuken\n"
     ]
    }
   ],
   "source": [
    "try:\n",
    "    with open(\"/Users/naveenprasanthramasamy/Desktop/ai/basics/ai_boot_camp/sample.text\", \"w\") as write_file:\n",
    "        write_file.writelines([\"summa\\n\", \"tha\\n\", \"iruken\\n\"])\n",
    "except IOError as e:\n",
    "    print(f\"Error: {e}\")\n",
    "\n",
    "try:\n",
    "    with open(\"/Users/naveenprasanthramasamy/Desktop/ai/basics/ai_boot_camp/sample.text\", \"r\") as read_file:\n",
    "        lines = read_file.readlines()\n",
    "        gen = (line for line in lines)\n",
    "        print(*gen, sep=\"\\n\")\n",
    "except IOError as e:\n",
    "    print(f\"Error: {e}\")\n"
   ]
  }
 ],
 "metadata": {
  "kernelspec": {
   "display_name": "Python 3",
   "language": "python",
   "name": "python3"
  },
  "language_info": {
   "codemirror_mode": {
    "name": "ipython",
    "version": 3
   },
   "file_extension": ".py",
   "mimetype": "text/x-python",
   "name": "python",
   "nbconvert_exporter": "python",
   "pygments_lexer": "ipython3",
   "version": "3.12.0"
  }
 },
 "nbformat": 4,
 "nbformat_minor": 5
}
