{
 "cells": [
  {
   "cell_type": "code",
   "execution_count": null,
   "id": "baf1515a",
   "metadata": {},
   "outputs": [
    {
     "name": "stdout",
     "output_type": "stream",
     "text": [
      "My name is naveeen and I'm working in JPMC\n"
     ]
    }
   ],
   "source": [
    "with open(\"/Users/naveenprasanthramasamy/Desktop/ai/basics/ai_boot_camp/sample.text\", \"r\") as file:\n",
    "    print(file.read())\n"
   ]
  }
 ],
 "metadata": {
  "kernelspec": {
   "display_name": "Python 3",
   "language": "python",
   "name": "python3"
  },
  "language_info": {
   "codemirror_mode": {
    "name": "ipython",
    "version": 3
   },
   "file_extension": ".py",
   "mimetype": "text/x-python",
   "name": "python",
   "nbconvert_exporter": "python",
   "pygments_lexer": "ipython3",
   "version": "3.12.0"
  }
 },
 "nbformat": 4,
 "nbformat_minor": 5
}
