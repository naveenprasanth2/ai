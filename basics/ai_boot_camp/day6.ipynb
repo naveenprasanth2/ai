{
 "cells": [
  {
   "cell_type": "code",
   "execution_count": null,
   "id": "baf1515a",
   "metadata": {},
   "outputs": [
    {
     "ename": "TypeError",
     "evalue": "'bool' object is not callable",
     "output_type": "error",
     "traceback": [
      "\u001b[31m---------------------------------------------------------------------------\u001b[39m",
      "\u001b[31mTypeError\u001b[39m                                 Traceback (most recent call last)",
      "\u001b[36mCell\u001b[39m\u001b[36m \u001b[39m\u001b[32mIn[8]\u001b[39m\u001b[32m, line 2\u001b[39m\n\u001b[32m      1\u001b[39m \u001b[38;5;28;01mwith\u001b[39;00m \u001b[38;5;28mopen\u001b[39m(\u001b[33m\"\u001b[39m\u001b[33m/Users/naveenprasanthramasamy/Desktop/ai/basics/ai_boot_camp/sample.text\u001b[39m\u001b[33m\"\u001b[39m, \u001b[33m\"\u001b[39m\u001b[33mw\u001b[39m\u001b[33m\"\u001b[39m) \u001b[38;5;28;01mas\u001b[39;00m write_file:\n\u001b[32m----> \u001b[39m\u001b[32m2\u001b[39m     \u001b[43mwrite_file\u001b[49m\u001b[43m.\u001b[49m\u001b[43mwrite_through\u001b[49m\u001b[43m(\u001b[49m\u001b[33;43m\"\u001b[39;49m\u001b[33;43mThis is a new line added to the file.\u001b[39;49m\u001b[33;43m\"\u001b[39;49m\u001b[43m)\u001b[49m\n\u001b[32m      4\u001b[39m \u001b[38;5;28;01mwith\u001b[39;00m \u001b[38;5;28mopen\u001b[39m(\u001b[33m\"\u001b[39m\u001b[33m/Users/naveenprasanthramasamy/Desktop/ai/basics/ai_boot_camp/sample.text\u001b[39m\u001b[33m\"\u001b[39m, \u001b[33m\"\u001b[39m\u001b[33mr\u001b[39m\u001b[33m\"\u001b[39m) \u001b[38;5;28;01mas\u001b[39;00m file:\n\u001b[32m      5\u001b[39m     \u001b[38;5;28mprint\u001b[39m(file.read())\n",
      "\u001b[31mTypeError\u001b[39m: 'bool' object is not callable"
     ]
    }
   ],
   "source": [
    "with open(\"/Users/naveenprasanthramasamy/Desktop/ai/basics/ai_boot_camp/sample.text\", \"w\") as write_file:\n",
    "    write_file.write(\"This is a new line added to the file.\")\n",
    "\n",
    "with open(\"/Users/naveenprasanthramasamy/Desktop/ai/basics/ai_boot_camp/sample.text\", \"r\") as file:\n",
    "    print(file.read())"
   ]
  }
 ],
 "metadata": {
  "kernelspec": {
   "display_name": "Python 3",
   "language": "python",
   "name": "python3"
  },
  "language_info": {
   "codemirror_mode": {
    "name": "ipython",
    "version": 3
   },
   "file_extension": ".py",
   "mimetype": "text/x-python",
   "name": "python",
   "nbconvert_exporter": "python",
   "pygments_lexer": "ipython3",
   "version": "3.12.0"
  }
 },
 "nbformat": 4,
 "nbformat_minor": 5
}
