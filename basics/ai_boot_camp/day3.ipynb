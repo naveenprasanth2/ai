{
 "cells": [
  {
   "cell_type": "code",
   "execution_count": 3,
   "id": "e441bbe9",
   "metadata": {},
   "outputs": [
    {
     "data": {
      "text/plain": [
       "8"
      ]
     },
     "execution_count": 3,
     "metadata": {},
     "output_type": "execute_result"
    }
   ],
   "source": [
    "def add_number(a, b):\n",
    "    return a + b\n",
    "\n",
    "add_number(3, 5)"
   ]
  },
  {
   "cell_type": "code",
   "execution_count": 4,
   "id": "fb19cacc",
   "metadata": {},
   "outputs": [
    {
     "name": "stdout",
     "output_type": "stream",
     "text": [
      "Hello, World!\n"
     ]
    }
   ],
   "source": [
    "def greet():\n",
    "    message = \"Hello, World!\"\n",
    "    print(message)\n",
    "\n",
    "greet()"
   ]
  },
  {
   "cell_type": "code",
   "execution_count": null,
   "id": "56a5043c",
   "metadata": {},
   "outputs": [
    {
     "name": "stdout",
     "output_type": "stream",
     "text": [
      "Hello, World!\n",
      "Hello, World!\n"
     ]
    }
   ],
   "source": [
    "message = \"Hello, World!\"\n",
    "\n",
    "def print_message():\n",
    "    print(message)\n",
    "\n",
    "print_message()\n",
    "print(message)"
   ]
  },
  {
   "cell_type": "code",
   "execution_count": 10,
   "id": "fe7ae85f",
   "metadata": {},
   "outputs": [
    {
     "name": "stdout",
     "output_type": "stream",
     "text": [
      "I am modified global\n"
     ]
    }
   ],
   "source": [
    "var = \"I am global\"\n",
    "\n",
    "def inside_global():\n",
    "    global var\n",
    "    var = \"I am modified global\"\n",
    "\n",
    "inside_global()\n",
    "\n",
    "print(var)"
   ]
  },
  {
   "cell_type": "code",
   "execution_count": 13,
   "id": "9e1e6a79",
   "metadata": {},
   "outputs": [
    {
     "name": "stdout",
     "output_type": "stream",
     "text": [
      "4.0\n"
     ]
    }
   ],
   "source": [
    "import math\n",
    "\n",
    "print(math.sqrt(16))"
   ]
  },
  {
   "cell_type": "code",
   "execution_count": 14,
   "id": "04eab4c9",
   "metadata": {},
   "outputs": [
    {
     "name": "stdout",
     "output_type": "stream",
     "text": [
      "5.0\n"
     ]
    }
   ],
   "source": [
    "from math import sqrt\n",
    "print(sqrt(25))"
   ]
  },
  {
   "cell_type": "markdown",
   "id": "24f6cc5c",
   "metadata": {},
   "source": []
  }
 ],
 "metadata": {
  "kernelspec": {
   "display_name": "Python 3",
   "language": "python",
   "name": "python3"
  },
  "language_info": {
   "codemirror_mode": {
    "name": "ipython",
    "version": 3
   },
   "file_extension": ".py",
   "mimetype": "text/x-python",
   "name": "python",
   "nbconvert_exporter": "python",
   "pygments_lexer": "ipython3",
   "version": "3.12.0"
  }
 },
 "nbformat": 4,
 "nbformat_minor": 5
}
