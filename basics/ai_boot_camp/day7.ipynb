{
 "cells": [
  {
   "cell_type": "code",
   "execution_count": null,
   "id": "227d7ba5",
   "metadata": {},
   "outputs": [
    {
     "name": "stdout",
     "output_type": "stream",
     "text": [
      "[1, 4, 9, 16]\n",
      "<map object at 0x104357040>\n"
     ]
    }
   ],
   "source": [
    "numbers = [1,2,3,4]\n",
    "\n",
    "squares = [x**2 for x in numbers]\n",
    "\n",
    "print(squares)  # Output: [1, 4, 9, 16]\n",
    "\n",
    "cubes = map(lambda x : x ** 3, numbers)\n",
    "print(list(cubes))  # Output: [1, 8, 27, 64]"
   ]
  },
  {
   "cell_type": "code",
   "execution_count": null,
   "id": "5ddcb7a0",
   "metadata": {},
   "outputs": [
    {
     "name": "stdout",
     "output_type": "stream",
     "text": [
      "<filter object at 0x1061f24a0>\n"
     ]
    }
   ],
   "source": [
    "numbers = [1,2,3,4]\n",
    "\n",
    "even_list = filter(lambda x : x % 2 == 0, numbers)\n",
    "\n",
    "print(list(even_list))  # Output: [2, 4]"
   ]
  }
 ],
 "metadata": {
  "kernelspec": {
   "display_name": "Python 3",
   "language": "python",
   "name": "python3"
  },
  "language_info": {
   "codemirror_mode": {
    "name": "ipython",
    "version": 3
   },
   "file_extension": ".py",
   "mimetype": "text/x-python",
   "name": "python",
   "nbconvert_exporter": "python",
   "pygments_lexer": "ipython3",
   "version": "3.12.0"
  }
 },
 "nbformat": 4,
 "nbformat_minor": 5
}
