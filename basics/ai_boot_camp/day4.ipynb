{
 "cells": [
  {
   "cell_type": "code",
   "execution_count": 1,
   "id": "99968735",
   "metadata": {},
   "outputs": [
    {
     "name": "stdout",
     "output_type": "stream",
     "text": [
      "1\n",
      "cherry\n",
      "apple\n",
      "10\n"
     ]
    }
   ],
   "source": [
    "numbers = [1,2,3,4,5,6,7,8,9,10]\n",
    "\n",
    "fruits = [\"apple\", \"banana\", \"cherry\", \"date\", \"elderberry\"]\n",
    "\n",
    "mixed = [1, \"apple\", True]\n",
    "\n",
    "print(numbers[0])  # Accessing the first element of numbers\n",
    "print(fruits[2])   # Accessing the third element of fruits\n",
    "print(mixed[1])    # Accessing the second element of mixed\n",
    "print(numbers[-1])  # Accessing the last element of numbers\n"
   ]
  },
  {
   "cell_type": "code",
   "execution_count": 5,
   "id": "271f5536",
   "metadata": {},
   "outputs": [
    {
     "name": "stdout",
     "output_type": "stream",
     "text": [
      "['apple', 'banana', 'grape', 'cherry', 'date', 'elderberry', 'fig']\n",
      "['apple', 'grape', 'cherry', 'date', 'elderberry', 'fig']\n",
      "['apple', 'cherry', 'date', 'elderberry', 'fig']\n"
     ]
    }
   ],
   "source": [
    "numbers = [1,2,3,4,5,6,7,8,9,10]\n",
    "\n",
    "fruits = [\"apple\", \"banana\", \"cherry\", \"date\", \"elderberry\"]\n",
    "\n",
    "mixed = [1, \"apple\", True]\n",
    "\n",
    "fruits.append(\"fig\")  # Adding \"fig\" to the end of fruits\n",
    "fruits.insert(2, \"grape\")  # Inserting \"grape\" at index 2\n",
    "print(fruits)  # Displaying the updated fruits list\n",
    "fruits.remove(\"banana\")  # Removing \"banana\" from fruits\n",
    "print(fruits)  # Displaying the fruits list after removal\n",
    "\n",
    "del fruits[1]  # Deleting the second element of fruits\n",
    "print(fruits)  # Displaying the fruits list after deletion"
   ]
  },
  {
   "cell_type": "code",
   "execution_count": null,
   "id": "2159fb01",
   "metadata": {},
   "outputs": [
    {
     "name": "stdout",
     "output_type": "stream",
     "text": [
      "('apple', 'banana', 'cherry', 'date', 'elderberry')\n"
     ]
    }
   ],
   "source": [
    "fruits = (\"apple\", \"banana\", \"cherry\", \"date\", \"elderberry\")\n",
    "\n",
    "print(fruits)"
   ]
  },
  {
   "cell_type": "code",
   "execution_count": 11,
   "id": "a0c58c2c",
   "metadata": {},
   "outputs": [
    {
     "name": "stdout",
     "output_type": "stream",
     "text": [
      "{1, 2, 3, 4, 5}\n",
      "{1, 2, 3, 4, 5}\n",
      "{3}\n",
      "{3}\n"
     ]
    }
   ],
   "source": [
    "set1 = {1,2,3}\n",
    "set2 = {3,4,5}\n",
    "\n",
    "print(set1.union(set2))  # Displaying the union of sets\n",
    "print(set1 | set2)  # Another way to display the union of sets\n",
    "print(set1.intersection(set2))  # Displaying the intersection of sets\n",
    "print(set1 & set2)  # Another way to display the intersection of sets"
   ]
  },
  {
   "cell_type": "code",
   "execution_count": 17,
   "id": "8fec6a92",
   "metadata": {},
   "outputs": [
    {
     "name": "stdout",
     "output_type": "stream",
     "text": [
      "Name exists in the dictionary\n",
      "{'name': 'Alice', 'age': 30, 'city': 'New York', 'job': 'Engineer', 'country': 'USA'}\n"
     ]
    }
   ],
   "source": [
    "dict = {\"name\": \"Alice\", \"age\": 30, \"city\": \"New York\"}\n",
    "dict.update({\"job\": \"Engineer\"})  # Adding a new key-value pair\n",
    "dict[\"country\"] = \"USA\"  # Adding another key-value pair\n",
    "if dict.__contains__(\"name\"):  # Checking if \"name\" key exists in the dictionary\n",
    "    print(\"Name exists in the dictionary\")  # Printing if \"name\" key exists\n",
    "\n",
    "\n",
    "print(dict)  # Displaying the dictionary after adding a new key-value pair"
   ]
  },
  {
   "cell_type": "code",
   "execution_count": null,
   "id": "8270d92e",
   "metadata": {},
   "outputs": [
    {
     "name": "stdout",
     "output_type": "stream",
     "text": [
      "{'counting the words ': 1, ' with python and counting the letters': 1}\n"
     ]
    }
   ],
   "source": [
    "sentence = \"counting the words with python and counting the letters\"\n",
    "words = sentence .split(\" \")\n",
    "dict = {}\n",
    "for word in words:\n",
    "    if word in dict:\n",
    "        dict[word] += 1\n",
    "    else:\n",
    "        dict[word] = 1\n",
    "\n",
    "print(dict)  # Displaying the word count dictionary"
   ]
  }
 ],
 "metadata": {
  "kernelspec": {
   "display_name": "Python 3",
   "language": "python",
   "name": "python3"
  },
  "language_info": {
   "codemirror_mode": {
    "name": "ipython",
    "version": 3
   },
   "file_extension": ".py",
   "mimetype": "text/x-python",
   "name": "python",
   "nbconvert_exporter": "python",
   "pygments_lexer": "ipython3",
   "version": "3.12.0"
  }
 },
 "nbformat": 4,
 "nbformat_minor": 5
}
