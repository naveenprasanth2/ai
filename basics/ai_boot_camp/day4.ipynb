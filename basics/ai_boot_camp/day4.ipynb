{
 "cells": [
  {
   "cell_type": "code",
   "execution_count": 1,
   "id": "99968735",
   "metadata": {},
   "outputs": [
    {
     "name": "stdout",
     "output_type": "stream",
     "text": [
      "1\n",
      "cherry\n",
      "apple\n",
      "10\n"
     ]
    }
   ],
   "source": [
    "numbers = [1,2,3,4,5,6,7,8,9,10]\n",
    "\n",
    "fruits = [\"apple\", \"banana\", \"cherry\", \"date\", \"elderberry\"]\n",
    "\n",
    "mixed = [1, \"apple\", True]\n",
    "\n",
    "print(numbers[0])  # Accessing the first element of numbers\n",
    "print(fruits[2])   # Accessing the third element of fruits\n",
    "print(mixed[1])    # Accessing the second element of mixed\n",
    "print(numbers[-1])  # Accessing the last element of numbers\n"
   ]
  },
  {
   "cell_type": "code",
   "execution_count": null,
   "id": "271f5536",
   "metadata": {},
   "outputs": [
    {
     "name": "stdout",
     "output_type": "stream",
     "text": [
      "['apple', 'banana', 'grape', 'cherry', 'date', 'elderberry', 'fig']\n"
     ]
    }
   ],
   "source": [
    "numbers = [1,2,3,4,5,6,7,8,9,10]\n",
    "\n",
    "fruits = [\"apple\", \"banana\", \"cherry\", \"date\", \"elderberry\"]\n",
    "\n",
    "mixed = [1, \"apple\", True]\n",
    "\n",
    "fruits.append(\"fig\")  # Adding \"fig\" to the end of fruits\n",
    "fruits.insert(2, \"grape\")  # Inserting \"grape\" at index 2\n",
    "print(fruits)  # Displaying the updated fruits list\n",
    "fruits.remove(\"banana\")  # Removing \"banana\" from fruits\n",
    "print(fruits)  # Displaying the fruits list after removal"
   ]
  }
 ],
 "metadata": {
  "kernelspec": {
   "display_name": "Python 3",
   "language": "python",
   "name": "python3"
  },
  "language_info": {
   "codemirror_mode": {
    "name": "ipython",
    "version": 3
   },
   "file_extension": ".py",
   "mimetype": "text/x-python",
   "name": "python",
   "nbconvert_exporter": "python",
   "pygments_lexer": "ipython3",
   "version": "3.12.0"
  }
 },
 "nbformat": 4,
 "nbformat_minor": 5
}
