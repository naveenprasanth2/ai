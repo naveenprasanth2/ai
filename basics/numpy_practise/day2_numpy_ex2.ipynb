{
 "cells": [
  {
   "cell_type": "code",
   "execution_count": null,
   "id": "f2ee32b9",
   "metadata": {},
   "outputs": [
    {
     "name": "stdout",
     "output_type": "stream",
     "text": [
      "original: \n",
      " [[21 49 32 34  3]\n",
      " [42 13  5 14 43]\n",
      " [34 44 26 28 40]\n",
      " [42 20 25 43 10]\n",
      " [ 9 46 28 10 25]]\n",
      "Modified : \n",
      " [[0 0 0 0 3]\n",
      " [0 0 5 0 0]\n",
      " [0 0 0 0 0]\n",
      " [0 0 0 0 0]\n",
      " [0 0 0 0 0]]\n",
      "Sum:  8\n",
      "Mean:  0.32\n",
      "Standard deviation:  1.1214276615100949\n"
     ]
    }
   ],
   "source": [
    "import numpy as np\n",
    "\n",
    "dataset = np.random.randint(1, 51, size=(5, 5))\n",
    "\n",
    "print(\"original: \\n\", dataset)\n",
    "\n",
    "dataset[dataset > 5 ] = 0\n",
    "\n",
    "print(\"Modified : \\n\", dataset)\n",
    "print(\"Sum: \", np.sum(dataset))\n",
    "print(\"Mean: \", np.mean(dataset))\n",
    "print(\"Standard deviation: \", np.std(dataset))"
   ]
  }
 ],
 "metadata": {
  "kernelspec": {
   "display_name": "Python 3",
   "language": "python",
   "name": "python3"
  },
  "language_info": {
   "codemirror_mode": {
    "name": "ipython",
    "version": 3
   },
   "file_extension": ".py",
   "mimetype": "text/x-python",
   "name": "python",
   "nbconvert_exporter": "python",
   "pygments_lexer": "ipython3",
   "version": "3.12.0"
  }
 },
 "nbformat": 4,
 "nbformat_minor": 5
}
