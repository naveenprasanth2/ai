{
 "cells": [
  {
   "cell_type": "code",
   "execution_count": null,
   "id": "a3aacb6a",
   "metadata": {},
   "outputs": [
    {
     "name": "stdout",
     "output_type": "stream",
     "text": [
      "[11 12 13]\n",
      "[[11 22]\n",
      " [13 24]]\n"
     ]
    }
   ],
   "source": [
    "import numpy as np\n",
    "\n",
    "arr = np.array([1,2,3])\n",
    "print(arr + 10)\n",
    "\n",
    "matrix = np.array([[1, 2], [3, 4]])\n",
    "vector = np.array([10, 20])\n",
    "\n",
    "print(matrix + vector)  # Broadcasting: adds vector to each row of the matrix\n",
    "\n"
   ]
  },
  {
   "cell_type": "code",
   "execution_count": null,
   "id": "42ba240b",
   "metadata": {},
   "outputs": [
    {
     "name": "stdout",
     "output_type": "stream",
     "text": [
      "[[2 2 2]\n",
      " [5 5 5]\n",
      " [8 8 8]]\n",
      "[[ 2  4  6]\n",
      " [ 8 10 12]\n",
      " [14 16 18]]\n"
     ]
    }
   ],
   "source": [
    "import numpy as np\n",
    "\n",
    "arr = np.array([[1, 2, 3], [4, 5, 6], [7, 8, 9]])\n",
    "vector = np.array([1, 0, -1])\n",
    "print(arr + vector)  # Broadcasting: adds vector to each row of the array\n",
    "print(arr * 2)\n"
   ]
  },
  {
   "cell_type": "code",
   "execution_count": 9,
   "id": "9504a4ec",
   "metadata": {},
   "outputs": [
    {
     "name": "stdout",
     "output_type": "stream",
     "text": [
      "[[45 48 54  1  4]\n",
      " [ 4 40 10 20 22]\n",
      " [51 37 24  7 25]\n",
      " [25 13  2 39 40]\n",
      " [24 47 25 18 38]]\n",
      "[[ 0  0  0  1  4]\n",
      " [ 4  0 10 20 22]\n",
      " [ 0  0 24  7 25]\n",
      " [25 13  2  0  0]\n",
      " [24  0 25 18  0]]\n"
     ]
    }
   ],
   "source": [
    "import numpy as np\n",
    "\n",
    "np.random.seed(0)  # For reproducibility\n",
    "arr = np.random.randint(1, 55, size=(5, 5))\n",
    "\n",
    "print(arr)\n",
    "arr[arr > 25] = 0\n",
    "print(arr)"
   ]
  },
  {
   "cell_type": "code",
   "execution_count": 16,
   "id": "47acfa88",
   "metadata": {},
   "outputs": [
    {
     "name": "stdout",
     "output_type": "stream",
     "text": [
      "Mean along axis 0:\n",
      " [[7.5  5.75]\n",
      " [3.75 5.5 ]\n",
      " [3.5  6.5 ]]\n"
     ]
    }
   ],
   "source": [
    "#create a 3D random array and compute statistics along specified axes\n",
    "arr_3d = np.random.randint(1, 10, size=(4, 3, 2))  # 4x3x2 array\n",
    "# print(\"3D Array:\\n\", arr_3d)\n",
    "mean_along_axis0 = np.mean(arr_3d, axis=0)\n",
    "print(\"Mean along axis 0:\\n\", mean_along_axis0)"
   ]
  },
  {
   "cell_type": "code",
   "execution_count": null,
   "id": "73c3d4c1",
   "metadata": {},
   "outputs": [],
   "source": [
    "arr = np.random.randint(1, 10, size=(3, 4))  # 3x4 array"
   ]
  }
 ],
 "metadata": {
  "kernelspec": {
   "display_name": "Python 3",
   "language": "python",
   "name": "python3"
  },
  "language_info": {
   "codemirror_mode": {
    "name": "ipython",
    "version": 3
   },
   "file_extension": ".py",
   "mimetype": "text/x-python",
   "name": "python",
   "nbconvert_exporter": "python",
   "pygments_lexer": "ipython3",
   "version": "3.12.0"
  }
 },
 "nbformat": 4,
 "nbformat_minor": 5
}
