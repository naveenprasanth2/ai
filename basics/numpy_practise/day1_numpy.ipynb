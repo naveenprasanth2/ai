{
 "cells": [
  {
   "cell_type": "code",
   "execution_count": null,
   "id": "fa2fd9c9",
   "metadata": {},
   "outputs": [
    {
     "name": "stdout",
     "output_type": "stream",
     "text": [
      "[[1 2 3]\n",
      " [4 5 6]\n",
      " [7 8 9]]\n"
     ]
    }
   ],
   "source": [
    "import numpy as np\n",
    "\n",
    "arr = np.array([[1, 2, 3], [4, 5, 6], [7, 8, 9]])\n",
    "print(arr)\n"
   ]
  },
  {
   "cell_type": "code",
   "execution_count": null,
   "id": "64283890",
   "metadata": {},
   "outputs": [
    {
     "name": "stdout",
     "output_type": "stream",
     "text": [
      "[[0. 0. 0.]\n",
      " [0. 0. 0.]\n",
      " [0. 0. 0.]]\n",
      "[1 4 7]\n"
     ]
    }
   ],
   "source": [
    "import numpy as np\n",
    "\n",
    "zeros = np.zeros((3, 3))\n",
    "print(zeros)\n",
    "\n",
    "range_array = np.arange(1, 10, 3) # Create an array with values from 1 to 9 with a step of 3\n",
    "print(range_array)"
   ]
  },
  {
   "cell_type": "code",
   "execution_count": 1,
   "id": "b872fd1f",
   "metadata": {},
   "outputs": [
    {
     "name": "stdout",
     "output_type": "stream",
     "text": [
      "[1 4 7]\n"
     ]
    }
   ],
   "source": [
    "import numpy as np\n",
    "\n",
    "#range array\n",
    "range_array = np.arange(1, 10, 3)\n",
    "print(range_array)"
   ]
  },
  {
   "cell_type": "code",
   "execution_count": 2,
   "id": "24d413c9",
   "metadata": {},
   "outputs": [
    {
     "name": "stdout",
     "output_type": "stream",
     "text": [
      "[ 1.    3.25  5.5   7.75 10.  ]\n"
     ]
    }
   ],
   "source": [
    "import numpy as np\n",
    "\n",
    "linspace_array = np.linspace(1, 10, 5)  # Create an array with 5 evenly spaced values between 1 and 10\n",
    "\n",
    "print(linspace_array)"
   ]
  },
  {
   "cell_type": "code",
   "execution_count": null,
   "id": "0af18b2c",
   "metadata": {},
   "outputs": [
    {
     "name": "stdout",
     "output_type": "stream",
     "text": [
      "[[[1 2]\n",
      "  [3 4]]\n",
      "\n",
      " [[5 6]\n",
      "  [7 8]]]\n"
     ]
    }
   ],
   "source": [
    "import numpy as np\n",
    "\n",
    "arr = np.array([1,2,3,4,5,6,7,8,9])\n",
    "reshaped_arr = arr.reshape(3, 3)  # Reshape the array to 3x3\n",
    "print(reshaped_arr)"
   ]
  },
  {
   "cell_type": "code",
   "execution_count": 6,
   "id": "3d269950",
   "metadata": {},
   "outputs": [
    {
     "name": "stdout",
     "output_type": "stream",
     "text": [
      "[[[1 2]\n",
      "  [3 4]]\n",
      "\n",
      " [[5 6]\n",
      "  [7 8]]]\n"
     ]
    }
   ],
   "source": [
    "import numpy as np\n",
    "\n",
    "arr = np.array([1,2,3,4,5,6,7,8])\n",
    "reshaped_arr = arr.reshape(2,2,2)  # Reshape the array to 3x3\n",
    "print(reshaped_arr)"
   ]
  },
  {
   "cell_type": "code",
   "execution_count": 7,
   "id": "0d8df775",
   "metadata": {},
   "outputs": [
    {
     "name": "stdout",
     "output_type": "stream",
     "text": [
      "[[[[ 1  2]\n",
      "   [ 3  4]]\n",
      "\n",
      "  [[ 5  6]\n",
      "   [ 7  8]]]\n",
      "\n",
      "\n",
      " [[[ 9 10]\n",
      "   [11 12]]\n",
      "\n",
      "  [[13 14]\n",
      "   [15 16]]]]\n"
     ]
    }
   ],
   "source": [
    "import numpy as np\n",
    "\n",
    "arr = np.array([1,2,3,4,5,6,7,8, 9, 10, 11, 12, 13, 14, 15, 16])\n",
    "reshaped_arr = arr.reshape(2,2,2,2)  # Reshape the array to 3x3\n",
    "print(reshaped_arr)"
   ]
  },
  {
   "cell_type": "code",
   "execution_count": 8,
   "id": "34051cdf",
   "metadata": {},
   "outputs": [
    {
     "name": "stdout",
     "output_type": "stream",
     "text": [
      "[5 7 9]\n",
      "[-3 -3 -3]\n",
      "[ 4 10 18]\n",
      "[0.25 0.4  0.5 ]\n",
      "[2. 4. 5. 6.]\n",
      "[  16  256  625 1296]\n",
      "81\n"
     ]
    }
   ],
   "source": [
    "import numpy as np\n",
    "\n",
    "a = np.array([1,2,3])\n",
    "b = np.array([4,5,6])\n",
    "\n",
    "print(a +b)\n",
    "print(a - b)\n",
    "print(a * b)\n",
    "print(a / b)\n",
    "\n",
    "arr = np.array([4, 16, 25, 36])\n",
    "print(np.sqrt(arr))  # Square root of each element in arr\n",
    "print(np.square(arr))  # Square of each element in arr\n",
    "print(np.sum(arr))  # Sum of all elements in arr"
   ]
  },
  {
   "cell_type": "code",
   "execution_count": 11,
   "id": "c1d16b73",
   "metadata": {},
   "outputs": [
    {
     "name": "stdout",
     "output_type": "stream",
     "text": [
      "30\n",
      "50\n",
      "[20 30 40]\n",
      "[10 20 30]\n",
      "[30 40 50]\n",
      "[30 40 50]\n",
      "[10 30 50]\n",
      "[50 40 30 20 10]\n"
     ]
    }
   ],
   "source": [
    "import numpy as np\n",
    "\n",
    "arr = np.array([10, 20, 30, 40, 50])\n",
    "\n",
    "print(arr[2])  # Access the last element\n",
    "\n",
    "print(arr[-1])  # Access the last element using negative indexing\n",
    "\n",
    "print(arr[1:4])  # Access elements from index 1 to 3 (exclusive of 4)\n",
    "\n",
    "print(arr[:3])  # Access the first three elements\n",
    "print(arr[2:])  # Access elements from index 2 to the end\n",
    "print(arr[-3:])  # Access the last three elements\n",
    "print(arr[::2])  # Access every second element\n",
    "print(arr[::-1])  # Access elements in reverse order"
   ]
  },
  {
   "cell_type": "code",
   "execution_count": 12,
   "id": "8ac2dad4",
   "metadata": {},
   "outputs": [
    {
     "name": "stdout",
     "output_type": "stream",
     "text": [
      "[ 7  9 11 13 15]\n",
      "[-5 -5 -5 -5 -5]\n",
      "[ 6 14 24 36 50]\n",
      "[0.16666667 0.28571429 0.375      0.44444444 0.5       ]\n"
     ]
    }
   ],
   "source": [
    "import numpy as np\n",
    "\n",
    "a = np.arange(1, 6)\n",
    "b = np.arange(6, 11)\n",
    "\n",
    "print(a + b)\n",
    "print(a - b)\n",
    "print(a * b)\n",
    "print(a / b)"
   ]
  },
  {
   "cell_type": "code",
   "execution_count": 17,
   "id": "d7760c3a",
   "metadata": {},
   "outputs": [
    {
     "name": "stdout",
     "output_type": "stream",
     "text": [
      "original matrix:  [[1 2 3]\n",
      " [4 5 6]\n",
      " [7 8 9]]\n",
      "transpose of matrix:  [[1 4 7]\n",
      " [2 5 8]\n",
      " [3 6 9]]\n",
      "determinant of matrix:  -9.51619735392994e-16\n",
      "Transpose of the matrix:  [[1 4 7]\n",
      " [2 5 8]\n",
      " [3 6 9]]\n",
      "Inverse of the matrix:  [[-4.50359963e+15  9.00719925e+15 -4.50359963e+15]\n",
      " [ 9.00719925e+15 -1.80143985e+16  9.00719925e+15]\n",
      " [-4.50359963e+15  9.00719925e+15 -4.50359963e+15]]\n",
      "The multiplication of two matrices:  [[ 1  4  9]\n",
      " [16 25 36]\n",
      " [49 64 81]]\n"
     ]
    }
   ],
   "source": [
    "import numpy as np\n",
    "\n",
    "matrix = np.array([[1, 2, 3], [4, 5, 6], [7, 8, 9]])\n",
    "\n",
    "print(\"original matrix: \", matrix)\n",
    "print(\"transpose of matrix: \", matrix.T)  # Transpose the matrix\n",
    "print(\"determinant of matrix: \", np.linalg.det(matrix))  # Determinant of the matrix\n",
    "print(\"Transpose of the matrix: \", np.transpose(matrix))  # Transpose using np.transpose\n",
    "new_matrix = np.array([[1, 2, 3], [4, 5, 6], [7, 8, 9]])\n",
    "print(\"Inverse of the matrix: \", np.linalg.inv(new_matrix))  # Inverse of the matrix\n",
    "\n",
    "print(\"The multiplication of two matrices: \", matrix * new_matrix)  # Matrix multiplication"
   ]
  },
  {
   "cell_type": "code",
   "execution_count": 19,
   "id": "05f64972",
   "metadata": {},
   "outputs": [
    {
     "name": "stdout",
     "output_type": "stream",
     "text": [
      "Normalized array: \n",
      " [[0.    0.125 0.25 ]\n",
      " [0.375 0.5   0.625]\n",
      " [0.75  0.875 1.   ]]\n"
     ]
    }
   ],
   "source": [
    "import numpy as np\n",
    "\n",
    "arr = np.array([[1, 2, 3], [4, 5, 6], [7, 8, 9]])\n",
    "\n",
    "normalized = (arr - arr.min()) / (arr.max() - arr.min())  # Min-Max normalization\n",
    "print(\"Normalized array: \\n\", normalized)"
   ]
  },
  {
   "cell_type": "code",
   "execution_count": 21,
   "id": "d8ee69cf",
   "metadata": {},
   "outputs": [
    {
     "name": "stdout",
     "output_type": "stream",
     "text": [
      "Random array: \n",
      " [[0.4270671  0.28252894 0.23409482]\n",
      " [0.32813819 0.26556453 0.68133816]\n",
      " [0.87696151 0.30806154 0.05820347]]\n",
      "0.05820346825950917\n",
      "0.8769615120813977\n"
     ]
    }
   ],
   "source": [
    "import numpy as np\n",
    "\n",
    "arr = np.random.rand(3, 3)  # Create a 3x3 array with random values\n",
    "print(\"Random array: \\n\", arr)\n",
    "print(arr.min())  # Minimum value in the array\n",
    "print(arr.max())  # Maximum value in the array"
   ]
  },
  {
   "cell_type": "code",
   "execution_count": 22,
   "id": "e758fe50",
   "metadata": {},
   "outputs": [
    {
     "name": "stdout",
     "output_type": "stream",
     "text": [
      "Random integer array: \n",
      " [[15 12 16]\n",
      " [10 16 17]\n",
      " [17 18 17]]\n"
     ]
    }
   ],
   "source": [
    "import numpy as np\n",
    "\n",
    "low = 10   # start value\n",
    "high = 20  # end value\n",
    "arr = np.random.randint(low, high, (3, 3))  # Create a 3x3 array with random values\n",
    "print(\"Random integer array: \\n\", arr)"
   ]
  }
 ],
 "metadata": {
  "kernelspec": {
   "display_name": "Python 3",
   "language": "python",
   "name": "python3"
  },
  "language_info": {
   "codemirror_mode": {
    "name": "ipython",
    "version": 3
   },
   "file_extension": ".py",
   "mimetype": "text/x-python",
   "name": "python",
   "nbconvert_exporter": "python",
   "pygments_lexer": "ipython3",
   "version": "3.12.0"
  }
 },
 "nbformat": 4,
 "nbformat_minor": 5
}
